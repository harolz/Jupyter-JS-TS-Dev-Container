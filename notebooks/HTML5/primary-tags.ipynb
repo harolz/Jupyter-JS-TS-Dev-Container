{
 "cells": [
  {
   "cell_type": "code",
   "execution_count": 1,
   "metadata": {},
   "outputs": [
    {
     "data": {
      "text/html": [
       "<p style='display:inline-block;padding:0.25em;background:red;border: 1px solid #888;border-radius:0.25em;box-shadow: 0.8em 0.4em 0.4em black;'>This is a paragraph.</p>"
      ],
      "text/plain": [
       "HtmlElement { name: 'paragraph', _toHtml: [Function (anonymous)] }"
      ]
     },
     "execution_count": 1,
     "metadata": {},
     "output_type": "execute_result"
    }
   ],
   "source": [
    "function HtmlElement(name) {\n",
    "    this.name = name;\n",
    "}\n",
    "\n",
    "var style = (\n",
    "            \"display:inline-block;\" +\n",
    "            \"padding:0.25em;\" +\n",
    "            \"background:red;\" +\n",
    "            \"border: 1px solid \\#888;\" +\n",
    "            \"border-radius:0.25em;\" +\n",
    "            \"box-shadow: 0.8em 0.4em 0.4em black;\"\n",
    "            );\n",
    "\n",
    "var paragraph = new HtmlElement(\"paragraph\");\n",
    "\n",
    "paragraph._toHtml = ()=> \"<p style='\" + style + \"'>\" + \"This is a paragraph.\" + \"</p>\" \n",
    "\n",
    "paragraph;"
   ]
  },
  {
   "cell_type": "code",
   "execution_count": 2,
   "metadata": {},
   "outputs": [
    {
     "data": {
      "text/html": [
       "<div style='background:red;'>This is my div innerHtml</div>"
      ],
      "text/plain": [
       "HtmlElement { name: 'div', _toHtml: [Function (anonymous)] }"
      ]
     },
     "execution_count": 2,
     "metadata": {},
     "output_type": "execute_result"
    }
   ],
   "source": [
    "var div = new HtmlElement(\"div\");\n",
    "\n",
    "div._toHtml = ()=> \"<div style='background:red;'>\" + \"This is my div innerHtml\" + \"</div>\" \n",
    "\n",
    "div;"
   ]
  },
  {
   "cell_type": "code",
   "execution_count": 3,
   "metadata": {},
   "outputs": [
    {
     "data": {
      "text/html": [
       "<h1>This is my h1 innerHtml</h1>"
      ],
      "text/plain": [
       "HtmlElement { name: 'div', _toHtml: [Function (anonymous)] }"
      ]
     },
     "execution_count": 3,
     "metadata": {},
     "output_type": "execute_result"
    }
   ],
   "source": [
    "var h1 = new HtmlElement(\"h1\");\n",
    "\n",
    "div._toHtml = ()=> \"<h1>\" + \"This is my h1 innerHtml\" + \"</h1>\" \n",
    "\n",
    "div;"
   ]
  },
  {
   "cell_type": "code",
   "execution_count": 4,
   "metadata": {},
   "outputs": [
    {
     "data": {
      "text/html": [
       "<p> To break<br />lines<br />in a<br />paragraph,<br />use the br tag. </p> "
      ],
      "text/plain": [
       "HtmlElement { name: 'br', _toHtml: [Function (anonymous)] }"
      ]
     },
     "execution_count": 4,
     "metadata": {},
     "output_type": "execute_result"
    }
   ],
   "source": [
    "var br = new HtmlElement(\"br\");\n",
    "\n",
    "br._toHtml = ()=> \"<p> To break<br />lines<br />in a<br />paragraph,<br />use the br tag. </p> \"\n",
    "\n",
    "br;"
   ]
  },
  {
   "cell_type": "code",
   "execution_count": 5,
   "metadata": {},
   "outputs": [
    {
     "data": {
      "text/html": [
       "<p>hr 标签定义水平线：</p><hr /><p>这是段落。</p><hr /><p>这是段落。</p><hr /><p>这是段落。</p> "
      ],
      "text/plain": [
       "HtmlElement { name: 'hr', _toHtml: [Function (anonymous)] }"
      ]
     },
     "execution_count": 5,
     "metadata": {},
     "output_type": "execute_result"
    }
   ],
   "source": [
    "var hr = new HtmlElement(\"hr\");\n",
    "\n",
    "hr._toHtml = ()=> \"<p>hr 标签定义水平线：</p>\" +\n",
    "\"<hr />\" +\n",
    "\"<p>这是段落。</p>\" +\n",
    "\"<hr />\" +\n",
    "\"<p>这是段落。</p>\" +\n",
    "\"<hr />\" +\n",
    "\"<p>这是段落。</p> \" \n",
    "\n",
    "hr;\n",
    "\n"
   ]
  },
  {
   "cell_type": "code",
   "execution_count": null,
   "metadata": {},
   "outputs": [],
   "source": []
  }
 ],
 "metadata": {
  "kernelspec": {
   "display_name": "Javascript (Node.js)",
   "language": "javascript",
   "name": "javascript"
  },
  "language_info": {
   "file_extension": ".js",
   "mimetype": "application/javascript",
   "name": "javascript",
   "version": "14.7.0"
  }
 },
 "nbformat": 4,
 "nbformat_minor": 4
}
