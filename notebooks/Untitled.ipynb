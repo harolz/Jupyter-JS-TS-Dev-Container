{
 "cells": [
  {
   "cell_type": "code",
   "execution_count": 1,
   "metadata": {},
   "outputs": [
    {
     "name": "stdout",
     "output_type": "stream",
     "text": [
      "民族 民權 民生\n"
     ]
    }
   ],
   "source": [
    "console.log(\"民族 民權 民生\")"
   ]
  },
  {
   "cell_type": "code",
   "execution_count": 2,
   "metadata": {},
   "outputs": [
    {
     "name": "stdout",
     "output_type": "stream",
     "text": [
      "Server running at http://127.0.0.1:1037/\n"
     ]
    }
   ],
   "source": [
    "var http = require('http');\n",
    "http.createServer(function (request, response) {\n",
    "// 发送 HTTP 头部 \n",
    "\t// HTTP 状态值: 200 : OK\n",
    "\t// 内容类型: text/plain\n",
    "\tresponse.writeHead(200, {'Content-Type': 'text/plain'});\n",
    "// 发送响应数据 \"Hello World\"\n",
    "\tresponse.end('Hello World\\n');\n",
    "}).listen(1037);\n",
    "// 终端打印如下信息\n",
    "console.log('Server running at http://127.0.0.1:1037/');\n"
   ]
  },
  {
   "cell_type": "code",
   "execution_count": 3,
   "metadata": {},
   "outputs": [
    {
     "name": "stdout",
     "output_type": "stream",
     "text": [
      "Hello, world!\n"
     ]
    },
    {
     "data": {
      "text/plain": [
       "'Bye!'"
      ]
     },
     "execution_count": 3,
     "metadata": {},
     "output_type": "execute_result"
    }
   ],
   "source": [
    "\"use strict\";\n",
    "\n",
    "$$.async();\n",
    "\n",
    "{\n",
    "    let console = global.console;\n",
    "    let $$ = global.$$;\n",
    "\n",
    "    setTimeout(function() {\n",
    "        console.log(\"Hello, world!\");\n",
    "        $$.sendResult(\"Bye!\");\n",
    "    }, 1000);\n",
    "}"
   ]
  },
  {
   "cell_type": "code",
   "execution_count": 4,
   "metadata": {},
   "outputs": [
    {
     "name": "stdout",
     "output_type": "stream",
     "text": [
      "Person { name: 'Peter' }\n"
     ]
    },
    {
     "data": {
      "text/html": [
       "<div style='display:inline-block;padding:0.25em;background:red;border: 1px solid #888;border-radius:0.25em;box-shadow: 0.8em 0.4em 0.4em black;'>Person named Peter</div><input />"
      ],
      "text/plain": [
       "Person { name: 'Peter' }"
      ]
     },
     "execution_count": 4,
     "metadata": {},
     "output_type": "execute_result"
    }
   ],
   "source": [
    "function Person(name) {\n",
    "    this.name = name;\n",
    "}\n",
    "\n",
    "var peter = new Person(\"Peter\");\n",
    "\n",
    "var util = require(\"util\");\n",
    "console.log(util.inspect(peter));  // shown on stdout\n",
    "peter;                             // shown as an execution result\n",
    "\n",
    "Person.prototype.inspect = function inspect(depth) {\n",
    "    return \"Person named \" + this.name;\n",
    "};\n",
    "\n",
    "peter;\n",
    "\n",
    "Person.prototype._toHtml = function _toHtml() {\n",
    "    var style = (\n",
    "        \"display:inline-block;\" +\n",
    "        \"padding:0.25em;\" +\n",
    "        \"background:red;\" +\n",
    "        \"border: 1px solid #888;\" +\n",
    "        \"border-radius:0.25em;\" +\n",
    "        \"box-shadow: 0.8em 0.4em 0.4em black;\"\n",
    "    );\n",
    "    return (\n",
    "        \"<div style='\" + style + \"'>\" +\n",
    "        this.inspect() +\n",
    "        \"</div>\" +\"<input />\"\n",
    "    );\n",
    "};\n",
    "\n",
    "peter;"
   ]
  },
  {
   "cell_type": "raw",
   "metadata": {},
   "source": [
    "\n",
    "\"use strict\";\n",
    "var Bookmark = Class.create({\n",
    "  initialize: function(name, url) {\n",
    "    this.name = name;\n",
    "    this.url = url;\n",
    "  },\n",
    "   toHTML: function() {\n",
    "    return '<a href=\"#{url}\">#{name}</a>'.interpolate(this);\n",
    "  }\n",
    "});\n",
    " var api = new Bookmark('Prototype API', 'http://prototypejs.org/api');\n",
    " Object.toHTML(api);\n",
    "//-> '<a href=\"http://prototypejs.org/api\">Prototype API</a>'\n",
    " Object.toHTML(\"Hello world!\");\n",
    "//-> \"Hello world!\"\n",
    " Object.toHTML();\n",
    "//-> \"\"\n",
    " Object.toHTML(null);\n",
    "//-> \"\"\n",
    " Object.toHTML(undefined);\n",
    "//-> \"\"\n",
    " Object.toHTML(true);\n",
    "//-> \"true\"\n",
    " Object.toHTML(false);\n",
    "//-> \"false\"\n",
    " Object.toHTML(123);\n",
    "//-> \"123\"\n",
    "\n"
   ]
  },
  {
   "cell_type": "code",
   "execution_count": 5,
   "metadata": {},
   "outputs": [
    {
     "data": {
      "text/plain": [
       "[class State]"
      ]
     },
     "execution_count": 5,
     "metadata": {},
     "output_type": "execute_result"
    }
   ],
   "source": [
    "'use strict';\n",
    "\n",
    "/**\n",
    " * a helper state object\n",
    " * to parse/generate url\n",
    " */\n",
    "\n",
    "class State {\n",
    "    constructor(url) {\n",
    "        this.base = '';\n",
    "        this.params = {};\n",
    "        this.parse(url);\n",
    "    }\n",
    "\n",
    "    // parse a url, get params\n",
    "    parse(url){\n",
    "        let segs = url.split('?');\n",
    "        this.base = segs[0];\n",
    "\n",
    "        if (segs.length < 2){\n",
    "            return;\n",
    "        }\n",
    "\n",
    "        segs[1].split('&').forEach((chunk) => {\n",
    "            let pair = chunk.split('=');\n",
    "            if (pair.length){\n",
    "                this.params[pair[0]] = pair[1];\n",
    "            }\n",
    "        });\n",
    "    }\n",
    "\n",
    "    // generate a url\n",
    "    generate(){\n",
    "        return this.base + '?' + Object.keys(this.params).map((key) => `${key}=${this.params[key]}`).join('&');\n",
    "    }\n",
    "}\n",
    "\n",
    "if (typeof module !== 'undefined'){\n",
    "    module.exports = State;\n",
    "}"
   ]
  },
  {
   "cell_type": "code",
   "execution_count": 6,
   "metadata": {},
   "outputs": [
    {
     "data": {
      "text/plain": [
       "[class ClickButton]"
      ]
     },
     "execution_count": 6,
     "metadata": {},
     "output_type": "execute_result"
    }
   ],
   "source": [
    "'use strict';\n",
    "\n",
    "/**\n",
    " * a button changing location when clicked\n",
    " */\n",
    "\n",
    "class ClickButton {\n",
    "    constructor($dom){\n",
    "        $dom.addEventListener('click', this.onClick.bind(this))\n",
    "    }\n",
    "\n",
    "    onClick(){\n",
    "        let state = new State(window.location.href);\n",
    "        if (typeof state.params.click === 'undefined'){\n",
    "            state.params.click = 0;\n",
    "        }\n",
    "\n",
    "        state.params.click = state.params.click * 1 + 1;\n",
    "        window.history.replaceState({}, 'click', state.generate());\n",
    "    }\n",
    "}\n",
    "\n",
    "if (typeof exports !== 'undefined'){\n",
    "    exports.ClickButton = ClickButton;\n",
    "}"
   ]
  },
  {
   "cell_type": "code",
   "execution_count": 7,
   "metadata": {},
   "outputs": [],
   "source": [
    "let state = new State('http://colla.me?a=3');\n",
    "console.assert(state.params.a === '3');\n",
    "\n",
    "state = new State('http://colla.me?a=3&b=4');\n",
    "console.assert(state.params.a === '3');\n",
    "console.assert(state.params.b === '4');\n",
    "\n",
    "state = new State('http://colla.me?a=3&b');\n",
    "console.assert(state.params.a === '3');\n",
    "console.assert(state.params.b === undefined);"
   ]
  },
  {
   "cell_type": "code",
   "execution_count": 8,
   "metadata": {},
   "outputs": [
    {
     "name": "stdout",
     "output_type": "stream",
     "text": [
      "spec:when one param: ok\n",
      "spec:when two params: ok\n",
      "spec:when params not valid: fail\n"
     ]
    }
   ],
   "source": [
    "const assert = require('assert');\n",
    "const test = (title, spec) => {\n",
    "    try {\n",
    "        spec();\n",
    "        console.log(`spec:${title}: ok`);\n",
    "    } catch (e){\n",
    "        console.log(`spec:${title}: fail`);\n",
    "    }\n",
    "};\n",
    "\n",
    "test('when one param', () => {\n",
    "    let state = new State('http://colla.me?a=3');\n",
    "    assert.equal(state.params.a, '3');\n",
    "});\n",
    "\n",
    "test('when two params', () => {\n",
    "    let state = new State('http://colla.me?a=3&b=4');\n",
    "    assert.equal(state.params.a, '3');\n",
    "    assert.equal(state.params.b, '4');\n",
    "});\n",
    "\n",
    "test('when params not valid', () => {\n",
    "    let state = new State('http://colla.me?a=3&b');\n",
    "    assert.equal(state.params.a, '4');\n",
    "    assert.equal(state.params.b, undefined);\n",
    "});"
   ]
  }
 ],
 "metadata": {
  "kernelspec": {
   "display_name": "Javascript (Node.js)",
   "language": "javascript",
   "name": "javascript"
  },
  "language_info": {
   "file_extension": ".js",
   "mimetype": "application/javascript",
   "name": "javascript",
   "version": "14.7.0"
  }
 },
 "nbformat": 4,
 "nbformat_minor": 4
}
