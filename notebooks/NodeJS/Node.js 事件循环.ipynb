{
 "cells": [
  {
   "cell_type": "raw",
   "metadata": {},
   "source": [
    "Node.js 是单进程单线程应用程序，但是通过事件和回调支持并发，所以性能非常高。\n",
    "Node.js 的每一个 API 都是异步的，并作为一个独立线程运行，使用异步函数调用，并处理并发。\n",
    "Node.js 基本上所有的事件机制都是用设计模式中观察者模式实现。\n",
    "Node.js 单线程类似进入一个while(true)的事件循环，直到没有事件观察者退出，每个异步事件都生成一个事件观察者，如果有事件发生就调用该回调函数."
   ]
  },
  {
   "cell_type": "code",
   "execution_count": null,
   "metadata": {},
   "outputs": [],
   "source": [
    "事件驱动程序\n",
    "Node.js 使用事件驱动模型，当web server接收到请求，就把它关闭然后进行处理，然后去服务下一个web请求。 \n",
    "当这个请求完成，它被放回处理队列，当到达队列开头，这个结果被返回给用户。 \n",
    "这个模型非常高效可扩展性非常强，因为webserver一直接受请求而不等待任何读写操作。（这也被称之为非阻塞式IO或者事件驱动IO） \n",
    "在事件驱动模型中，会生成一个主循环来监听事件，当检测到事件时触发回调函数。\n"
   ]
  }
 ],
 "metadata": {
  "kernelspec": {
   "display_name": "Javascript (Node.js)",
   "language": "javascript",
   "name": "javascript"
  },
  "language_info": {
   "file_extension": ".js",
   "mimetype": "application/javascript",
   "name": "javascript",
   "version": "14.7.0"
  }
 },
 "nbformat": 4,
 "nbformat_minor": 4
}
