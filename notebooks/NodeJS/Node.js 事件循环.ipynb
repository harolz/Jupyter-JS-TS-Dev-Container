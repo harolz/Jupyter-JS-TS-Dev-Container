{
 "cells": [
  {
   "cell_type": "raw",
   "metadata": {},
   "source": [
    "Node.js 是单进程单线程应用程序，但是通过事件和回调支持并发，所以性能非常高。\n",
    "Node.js 的每一个 API 都是异步的，并作为一个独立线程运行，使用异步函数调用，并处理并发。\n",
    "Node.js 基本上所有的事件机制都是用设计模式中观察者模式实现。\n",
    "Node.js 单线程类似进入一个while(true)的事件循环，直到没有事件观察者退出，每个异步事件都生成一个事件观察者，如果有事件发生就调用该回调函数."
   ]
  },
  {
   "cell_type": "raw",
   "metadata": {},
   "source": [
    "事件驱动程序\n",
    "Node.js 使用事件驱动模型，当web server接收到请求，就把它关闭然后进行处理，然后去服务下一个web请求。 \n",
    "当这个请求完成，它被放回处理队列，当到达队列开头，这个结果被返回给用户。 \n",
    "这个模型非常高效可扩展性非常强，因为webserver一直接受请求而不等待任何读写操作。（这也被称之为非阻塞式IO或者事件驱动IO） \n",
    "在事件驱动模型中，会生成一个主循环来监听事件，当检测到事件时触发回调函数。"
   ]
  },
  {
   "cell_type": "markdown",
   "metadata": {},
   "source": [
    "![](./resources/EventEmitters.png)"
   ]
  },
  {
   "cell_type": "raw",
   "metadata": {},
   "source": [
    "整个事件驱动的流程就是这么实现的，非常简洁。有点类似于观察者模式，事件相当于一个主题(Subject)，\n",
    "而所有注册到这个事件上的处理函数相当于观察者(Observer)。 \n",
    "Node.js 有多个内置的事件，我们可以通过引入 events 模块，\n",
    "并通过实例化 EventEmitter 类来绑定和监听事件，如下实例"
   ]
  },
  {
   "cell_type": "code",
   "execution_count": 5,
   "metadata": {},
   "outputs": [
    {
     "name": "stdout",
     "output_type": "stream",
     "text": [
      "event emitted\n"
     ]
    },
    {
     "data": {
      "text/plain": [
       "true"
      ]
     },
     "execution_count": 5,
     "metadata": {},
     "output_type": "execute_result"
    }
   ],
   "source": [
    "// 引入 events 模块\n",
    "var events = require('events');\n",
    "// 创建 eventEmitter 对象\n",
    "var eventEmitter = new events.EventEmitter();\n",
    "// 以下程序绑定事件处理程序：\n",
    "// 绑定事件及事件的处理程序\n",
    "eventEmitter.on('eventName', eventHandler=()=>console.log(\"event emitted\"));\n",
    "// 我们可以通过程序主动触发事件：\n",
    "// 触发事件\n",
    "eventEmitter.emit('eventName');\n"
   ]
  },
  {
   "cell_type": "code",
   "execution_count": 10,
   "metadata": {},
   "outputs": [
    {
     "name": "stdout",
     "output_type": "stream",
     "text": [
      "连接成功。\n",
      "数据接收成功。\n",
      "程序执行完毕。\n"
     ]
    }
   ],
   "source": [
    "`创建 main.js 文件，代码如下所示：\n",
    "接下来让我们执行以上代码：`\n",
    "// 引入 events 模块\n",
    "var events = require('events');\n",
    "// 创建 eventEmitter 对象\n",
    "var eventEmitter = new events.EventEmitter();\n",
    "\n",
    "// 创建事件处理程序\n",
    "var connectHandler = function connected() {\n",
    "   console.log('连接成功。');\n",
    "  \n",
    "   // 触发 data_received 事件 \n",
    "   eventEmitter.emit('data_received');\n",
    "}\n",
    "\n",
    "// 绑定 connection 事件处理程序\n",
    "eventEmitter.on('connection', connectHandler);\n",
    " \n",
    "// 使用匿名函数绑定 data_received 事件\n",
    "eventEmitter.on('data_received', function(){\n",
    "   console.log('数据接收成功。');\n",
    "});\n",
    "\n",
    "// 触发 connection 事件 \n",
    "eventEmitter.emit('connection');\n",
    "\n",
    "console.log(\"程序执行完毕。\");"
   ]
  },
  {
   "cell_type": "code",
   "execution_count": null,
   "metadata": {},
   "outputs": [],
   "source": []
  }
 ],
 "metadata": {
  "kernelspec": {
   "display_name": "Javascript (Node.js)",
   "language": "javascript",
   "name": "javascript"
  },
  "language_info": {
   "file_extension": ".js",
   "mimetype": "application/javascript",
   "name": "javascript",
   "version": "14.7.0"
  }
 },
 "nbformat": 4,
 "nbformat_minor": 4
}
