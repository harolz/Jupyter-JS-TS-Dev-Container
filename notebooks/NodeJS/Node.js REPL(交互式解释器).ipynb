{
 "cells": [
  {
   "cell_type": "raw",
   "metadata": {},
   "source": [
    "Node.js REPL(交互式解释器)\n",
    "Node.js REPL(Read Eval Print Loop:交互式解释器) 表示一个电脑的环境，类似 Window 系统的终端或 Unix/Linux shell，我们可以在终端中输入命令，并接收系统的响应。\n",
    "REPL 的交互式的编程环境可以实时的验证你所编写的代码，非常适合于验证 Node.js 和 JavaScript 的相关 API。\n",
    "Node 自带了交互式解释器，可以执行以下任务：\n",
    "\t• 读取 - 读取用户输入，解析输入了Javascript 数据结构并存储在内存中。\n",
    "\t• 执行 - 执行输入的数据结构\n",
    "\t• 打印 - 输出结果\n",
    "循环 - 循环操作以上步骤直到用户两次按下 ctrl-c 按钮退出。"
   ]
  }
 ],
 "metadata": {
  "kernelspec": {
   "display_name": "Javascript (Node.js)",
   "language": "javascript",
   "name": "javascript"
  },
  "language_info": {
   "file_extension": ".js",
   "mimetype": "application/javascript",
   "name": "javascript",
   "version": "14.7.0"
  }
 },
 "nbformat": 4,
 "nbformat_minor": 4
}
