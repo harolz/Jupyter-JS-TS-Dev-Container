{
 "cells": [
  {
   "cell_type": "raw",
   "metadata": {},
   "source": [
    "Node.js 所有的异步 I/O 操作在完成时都会发送一个事件到事件队列。\n",
    "Node.js 里面的许多对象都会分发事件：\n",
    "一个net.Server对象会在每次有新连接时分发一个事件， \n",
    "一个fs.readStream对象会在文件被打开的时候发出一个事件。 \n",
    "所有这些产生事件的对象都是 events.EventEmitter 的实例。 \n",
    "你可以通过require(\"events\");来访问该模块。\n",
    "下面我们用一个简单的例子说明 EventEmitter 的用法："
   ]
  },
  {
   "cell_type": "code",
   "execution_count": 1,
   "metadata": {},
   "outputs": [
    {
     "data": {
      "text/plain": [
       "Timeout {\n",
       "  _idleTimeout: 1000,\n",
       "  _idlePrev: [TimersList],\n",
       "  _idleNext: [TimersList],\n",
       "  _idleStart: 138528,\n",
       "  _onTimeout: [Function (anonymous)],\n",
       "  _timerArgs: undefined,\n",
       "  _repeat: null,\n",
       "  _destroyed: false,\n",
       "  [Symbol(refed)]: true,\n",
       "  [Symbol(asyncId)]: 8,\n",
       "  [Symbol(triggerId)]: 5\n",
       "}"
      ]
     },
     "execution_count": 1,
     "metadata": {},
     "output_type": "execute_result"
    },
    {
     "name": "stdout",
     "output_type": "stream",
     "text": [
      "some_event occured.\n"
     ]
    }
   ],
   "source": [
    "//event.js \n",
    "var EventEmitter = require('events').EventEmitter; \n",
    "var event = new EventEmitter(); \n",
    "event.on('some_event', function() { \n",
    "    console.log('some_event occured.'); \n",
    "}); \n",
    "setTimeout(function() { \n",
    "    event.emit('some_event'); \n",
    "}, 1000); "
   ]
  },
  {
   "cell_type": "raw",
   "metadata": {},
   "source": [
    "运行这段代码，1秒后控制台输出了 'some_event occured'。其原理是 event 对象注册了事件 some_event 的一个监听器，\n",
    "然后我们通过 setTimeout 在1000毫秒以后向 event 对象发送事件 some_event，此时会调用 some_event 的监听器。"
   ]
  },
  {
   "cell_type": "markdown",
   "metadata": {},
   "source": [
    "## EventEmitter介绍"
   ]
  },
  {
   "cell_type": "markdown",
   "metadata": {},
   "source": [
    "events 模块只提供了一个对象： events.EventEmitter。EventEmitter 的核心就 是事件发射与事件监听器功能的封装。\n",
    "EventEmitter 的每个事件由一个事件名和若干个参数组成，事件名是一个字符串，通常表达一定的语义。对于每个事件，EventEmitter 支持 若干个事件监听器。\n",
    "当事件发射时，注册到这个事件的事件监听器被依次调用，事件参数作为回调函数参数传递。\n",
    "\n",
    "让我们以下面的例子解释这个过程："
   ]
  },
  {
   "cell_type": "code",
   "execution_count": 3,
   "metadata": {},
   "outputs": [
    {
     "name": "stdout",
     "output_type": "stream",
     "text": [
      "listener1 byvoid 1991\n",
      "listener2 byvoid 1991\n"
     ]
    },
    {
     "data": {
      "text/plain": [
       "true"
      ]
     },
     "execution_count": 3,
     "metadata": {},
     "output_type": "execute_result"
    }
   ],
   "source": [
    "var events = require('events'); \n",
    "var emitter = new events.EventEmitter(); \n",
    "emitter.on('someEvent', function(arg1, arg2) { \n",
    "    console.log('listener1', arg1, arg2); \n",
    "}); \n",
    "emitter.on('someEvent', function(arg1, arg2) { \n",
    " console.log('listener2', arg1, arg2); \n",
    "}); \n",
    "emitter.emit('someEvent', 'byvoid', 1991); "
   ]
  },
  {
   "cell_type": "markdown",
   "metadata": {},
   "source": [
    "以上例子中，emitter 为事件 someEvent 注册了两个事件监听器，然后发射了 someEvent 事件。运行结果中可以看到两个事件监听器回调函数被先后调用。 这就是EventEmitter最简单的用法。 "
   ]
  },
  {
   "cell_type": "markdown",
   "metadata": {},
   "source": [
    "## EventEmitter常用的API"
   ]
  },
  {
   "cell_type": "markdown",
   "metadata": {},
   "source": [
    "EventEmitter.on(event, listener)、emitter.addListener(event, listener) 为指定事件注册一个监听器,\\\n",
    "接收一个字符串 event 和一个回调函数 listener。"
   ]
  },
  {
   "cell_type": "code",
   "execution_count": 11,
   "metadata": {},
   "outputs": [
    {
     "data": {
      "text/plain": [
       "Server {\n",
       "  maxHeaderSize: undefined,\n",
       "  insecureHTTPParser: undefined,\n",
       "  _events: [Object: null prototype] {\n",
       "    request: [Function: anonymous],\n",
       "    connection: [ [Function: connectionListener], [Function (anonymous)] ]\n",
       "  },\n",
       "  _eventsCount: 2,\n",
       "  _maxListeners: undefined,\n",
       "  _connections: 0,\n",
       "  _handle: null,\n",
       "  _usingWorkers: false,\n",
       "  _workers: [],\n",
       "  _unref: false,\n",
       "  allowHalfOpen: true,\n",
       "  pauseOnConnect: false,\n",
       "  httpAllowHalfOpen: false,\n",
       "  timeout: 0,\n",
       "  keepAliveTimeout: 5000,\n",
       "  maxHeadersCount: null,\n",
       "  headersTimeout: 60000,\n",
       "  [Symbol(IncomingMessage)]: [Function: IncomingMessage],\n",
       "  [Symbol(ServerResponse)]: [Function: ServerResponse],\n",
       "  [Symbol(kCapture)]: false,\n",
       "  [Symbol(async_id_symbol)]: -1\n",
       "}"
      ]
     },
     "execution_count": 11,
     "metadata": {},
     "output_type": "execute_result"
    }
   ],
   "source": [
    "var server = require('http').createServer(new Function())\n",
    "server.on('connection', function (stream) {\n",
    "  console.log('someone connected!');\n",
    "});"
   ]
  },
  {
   "cell_type": "markdown",
   "metadata": {},
   "source": [
    "EventEmitter.emit(event, [arg1], [arg2], [...]) 发射 event 事件，传 递若干可选参数到事件监听器的参数表。"
   ]
  },
  {
   "cell_type": "markdown",
   "metadata": {},
   "source": [
    "EventEmitter.once(event, listener) 为指定事件注册一个单次监听器，即 监听器最多只会触发一次，触发后立刻解除该监听器。"
   ]
  },
  {
   "cell_type": "code",
   "execution_count": 13,
   "metadata": {},
   "outputs": [
    {
     "data": {
      "text/plain": [
       "Server {\n",
       "  maxHeaderSize: undefined,\n",
       "  insecureHTTPParser: undefined,\n",
       "  _events: [Object: null prototype] {\n",
       "    request: [Function: anonymous],\n",
       "    connection: [\n",
       "      [Function: connectionListener],\n",
       "      [Function (anonymous)],\n",
       "      [Function]\n",
       "    ]\n",
       "  },\n",
       "  _eventsCount: 2,\n",
       "  _maxListeners: undefined,\n",
       "  _connections: 0,\n",
       "  _handle: null,\n",
       "  _usingWorkers: false,\n",
       "  _workers: [],\n",
       "  _unref: false,\n",
       "  allowHalfOpen: true,\n",
       "  pauseOnConnect: false,\n",
       "  httpAllowHalfOpen: false,\n",
       "  timeout: 0,\n",
       "  keepAliveTimeout: 5000,\n",
       "  maxHeadersCount: null,\n",
       "  headersTimeout: 60000,\n",
       "  [Symbol(IncomingMessage)]: [Function: IncomingMessage],\n",
       "  [Symbol(ServerResponse)]: [Function: ServerResponse],\n",
       "  [Symbol(kCapture)]: false,\n",
       "  [Symbol(async_id_symbol)]: -1\n",
       "}"
      ]
     },
     "execution_count": 13,
     "metadata": {},
     "output_type": "execute_result"
    }
   ],
   "source": [
    "server.once('connection', function (stream) {\n",
    "  console.log('Ah, we have our first user!');\n",
    "});"
   ]
  },
  {
   "cell_type": "markdown",
   "metadata": {},
   "source": [
    "EventEmitter.removeListener(event, listener) 移除指定事件的某个监听器，listener 必须是该事件(通过唯一标识符)已经注册过的监听器。"
   ]
  },
  {
   "cell_type": "code",
   "execution_count": 14,
   "metadata": {},
   "outputs": [
    {
     "data": {
      "text/plain": [
       "Server {\n",
       "  maxHeaderSize: undefined,\n",
       "  insecureHTTPParser: undefined,\n",
       "  _events: [Object: null prototype] {\n",
       "    request: [Function: anonymous],\n",
       "    connection: [\n",
       "      [Function: connectionListener],\n",
       "      [Function (anonymous)],\n",
       "      [Function]\n",
       "    ]\n",
       "  },\n",
       "  _eventsCount: 2,\n",
       "  _maxListeners: undefined,\n",
       "  _connections: 0,\n",
       "  _handle: null,\n",
       "  _usingWorkers: false,\n",
       "  _workers: [],\n",
       "  _unref: false,\n",
       "  allowHalfOpen: true,\n",
       "  pauseOnConnect: false,\n",
       "  httpAllowHalfOpen: false,\n",
       "  timeout: 0,\n",
       "  keepAliveTimeout: 5000,\n",
       "  maxHeadersCount: null,\n",
       "  headersTimeout: 60000,\n",
       "  [Symbol(IncomingMessage)]: [Function: IncomingMessage],\n",
       "  [Symbol(ServerResponse)]: [Function: ServerResponse],\n",
       "  [Symbol(kCapture)]: false,\n",
       "  [Symbol(async_id_symbol)]: -1\n",
       "}"
      ]
     },
     "execution_count": 14,
     "metadata": {},
     "output_type": "execute_result"
    }
   ],
   "source": [
    "var callback = function(stream) {\n",
    "  console.log('someone connected!');\n",
    "};\n",
    "server.on('connection', callback);\n",
    "// ...\n",
    "server.removeListener('connection', callback);"
   ]
  },
  {
   "cell_type": "markdown",
   "metadata": {},
   "source": [
    "EventEmitter.removeAllListeners([event]) 移除所有事件的所有监听器， 如果指定 event，则移除指定事件的所有监听器。"
   ]
  },
  {
   "cell_type": "markdown",
   "metadata": {},
   "source": [
    "## error 事件"
   ]
  },
  {
   "cell_type": "markdown",
   "metadata": {},
   "source": [
    " EventEmitter 定义了一个特殊的事件 error，它包含了\"错误\"的语义，我们在遇到 异常的时候通常会发射 error 事件。\\\n",
    "当 error 被发射时，EventEmitter 规定如果没有响var events = require('events'); \n",
    "var emitter = new events.EventEmitter(); \n",
    "emitter.emit('error'); 应的监听器，Node.js 会把它当作异常，退出程序并打印调用栈。\\\n",
    "我们一般要为会发射 error 事件的对象设置监听器，避免遇到错误后整个程序崩溃。例如："
   ]
  },
  {
   "cell_type": "code",
   "execution_count": 15,
   "metadata": {},
   "outputs": [
    {
     "ename": "Error",
     "evalue": "Unhandled error. (undefined)",
     "execution_count": 15,
     "output_type": "error",
     "traceback": [
      "events.js:305",
      "    throw err; // Unhandled 'error' event",
      "    ^",
      "",
      "Error [ERR_UNHANDLED_ERROR]: Unhandled error. (undefined)",
      "    at EventEmitter.emit (events.js:303:17)",
      "    at evalmachine.<anonymous>:3:9",
      "    at Script.runInThisContext (vm.js:132:18)",
      "    at Object.runInThisContext (vm.js:315:38)",
      "    at run ([eval]:1054:15)",
      "    at onRunRequest ([eval]:888:18)",
      "    at onMessage ([eval]:848:13)",
      "    at process.emit (events.js:314:20)",
      "    at emit (internal/child_process.js:906:12)",
      "    at processTicksAndRejections (internal/process/task_queues.js:81:21)"
     ]
    }
   ],
   "source": [
    "var events = require('events'); \n",
    "var emitter = new events.EventEmitter(); \n",
    "emitter.emit('error'); "
   ]
  },
  {
   "cell_type": "markdown",
   "metadata": {},
   "source": [
    "## 继承 EventEmitter"
   ]
  },
  {
   "cell_type": "markdown",
   "metadata": {},
   "source": [
    " 大多数时候我们不会直接使用 EventEmitter，而是在对象中继承它。包括 fs、net、 http 在内的，只要是支持事件响应的核心模块都是 EventEmitter 的子类。\\\n",
    "为什么要这样做呢？原因有两点：\\\n",
    "首先，具有某个实体功能的对象实现事件符合语义， 事件的监听和发射应该是一个对象的方法。\\\n",
    "其次JavaScript 的对象机制是基于原型的，支持 部分多重继承，继承 EventEmitter 不会打乱对象原有的继承关系。"
   ]
  },
  {
   "cell_type": "code",
   "execution_count": null,
   "metadata": {},
   "outputs": [],
   "source": []
  }
 ],
 "metadata": {
  "kernelspec": {
   "display_name": "Javascript (Node.js)",
   "language": "javascript",
   "name": "javascript"
  },
  "language_info": {
   "file_extension": ".js",
   "mimetype": "application/javascript",
   "name": "javascript",
   "version": "14.7.0"
  }
 },
 "nbformat": 4,
 "nbformat_minor": 4
}
