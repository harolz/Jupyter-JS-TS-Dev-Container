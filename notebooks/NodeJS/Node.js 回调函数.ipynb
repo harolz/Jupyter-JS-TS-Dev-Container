{
 "cells": [
  {
   "cell_type": "raw",
   "metadata": {},
   "source": [
    "Node.js 异步编程的直接体现就是回调。\n",
    "异步编程依托于回调来实现，但不能说使用了回调后程序就异步化了。\n",
    "回调函数在完成任务后就会被调用，Node 使用了大量的回调函数，Node 所有 API 都支持回调函数。\n",
    "例如，我们可以一边读取文件，一边执行其他命令，在文件读取完成后，我们将文件内容作为回调函数的参数返回。这样在执行代码时就没有阻塞或等待文件 I/O 操作。这就大大提高了 Node.js 的性能，可以处理大量的并发请求。"
   ]
  },
  {
   "cell_type": "raw",
   "metadata": {},
   "source": [
    "同步阻塞代码实例\n",
    "创建一个文件 input.txt ，内容如下：\n",
    "日月忽其不焉\n",
    "创建 main.js 文件, 代码如下："
   ]
  },
  {
   "cell_type": "code",
   "execution_count": 2,
   "metadata": {},
   "outputs": [
    {
     "name": "stdout",
     "output_type": "stream",
     "text": [
      "日月忽其不焉\n",
      "程序执行结束！\n"
     ]
    }
   ],
   "source": [
    "var fs = require(\"fs\");\n",
    "var data = fs.readFileSync(\"./resources/input.txt\");\n",
    "console.log(data.toString());\n",
    "console.log(\"程序执行结束！\")"
   ]
  },
  {
   "cell_type": "raw",
   "metadata": {},
   "source": [
    "同步阻塞代码实例\n",
    "创建一个文件 input.txt ，内容如下：\n",
    "日月忽其不焉\n",
    "创建 main.js 文件, 代码如下："
   ]
  },
  {
   "cell_type": "code",
   "execution_count": 4,
   "metadata": {},
   "outputs": [
    {
     "name": "stdout",
     "output_type": "stream",
     "text": [
      "程序执行结束！\n",
      "日月忽其不焉\n"
     ]
    }
   ],
   "source": [
    "var fs = require(\"fs\");\n",
    "fs.readFile(\"./resources/input.txt\", (err,data)=>{\n",
    "    if (err) return console.error(err);\n",
    "    console.log(data.toString());\n",
    "})\n",
    "console.log(\"程序执行结束！\")"
   ]
  },
  {
   "cell_type": "code",
   "execution_count": 5,
   "metadata": {},
   "outputs": [
    {
     "name": "stdout",
     "output_type": "stream",
     "text": [
      "程序执行结束！\n"
     ]
    },
    {
     "name": "stderr",
     "output_type": "stream",
     "text": [
      "[Error: ENOENT: no such file or directory, open './resources/input1.txt'] {\n",
      "  errno: -2,\n",
      "  code: 'ENOENT',\n",
      "  syscall: 'open',\n",
      "  path: './resources/input1.txt'\n",
      "}\n"
     ]
    }
   ],
   "source": [
    "var fs = require(\"fs\");\n",
    "//如无此文件\n",
    "fs.readFile(\"./resources/input1.txt\", (err,data)=>{\n",
    "    if (err) return console.error(err);\n",
    "    console.log(data.toString());\n",
    "})\n",
    "console.log(\"程序执行结束！\")"
   ]
  },
  {
   "cell_type": "code",
   "execution_count": null,
   "metadata": {},
   "outputs": [],
   "source": []
  }
 ],
 "metadata": {
  "kernelspec": {
   "display_name": "Javascript (Node.js)",
   "language": "javascript",
   "name": "javascript"
  },
  "language_info": {
   "file_extension": ".js",
   "mimetype": "application/javascript",
   "name": "javascript",
   "version": "14.7.0"
  }
 },
 "nbformat": 4,
 "nbformat_minor": 4
}
