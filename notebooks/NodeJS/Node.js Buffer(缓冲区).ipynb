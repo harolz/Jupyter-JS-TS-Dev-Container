{
 "cells": [
  {
   "cell_type": "markdown",
   "metadata": {},
   "source": [
    "# Node.js Buffer(缓冲区)"
   ]
  },
  {
   "cell_type": "markdown",
   "metadata": {},
   "source": [
    "## Node.js Buffer(缓冲区)"
   ]
  },
  {
   "cell_type": "markdown",
   "metadata": {},
   "source": [
    "JavaScript 语言自身只有字符串数据类型，没有二进制数据类型。\n",
    "\n",
    "但在处理像TCP流或文件流时，必须使用到二进制数据。因此在 Node.js中，定义了一个 Buffer 类，该类 \\\n",
    "用来创建一个专门存放二进制数据的缓存区。\n",
    "\n",
    "在 Node.js 中，Buffer 类是随 Node 内核一起发布的核心库。Buffer 库为 Node.js 带来了一种存储原始 \\\n",
    "数据的方法，可以让 Node.js 处理二进制数据，每当需要在 Node.js 中处理I/O操作中移动的数据时，就 \\\n",
    "有可能使用 Buffer 库。原始数据存储在 Buffer 类的实例中。一个 Buffer 类似于一个整数数组，但它对应 \\\n",
    "于 V8 堆内存之外的一块原始内存。"
   ]
  },
  {
   "cell_type": "markdown",
   "metadata": {},
   "source": [
    "## 创建 Buffer 类\n",
    "Node Buffer 类可以通过多种方式来创建。"
   ]
  },
  {
   "cell_type": "markdown",
   "metadata": {},
   "source": [
    "### 方法 1\n",
    "\n",
    "创建长度为 10 字节的 Buffer 实例："
   ]
  },
  {
   "cell_type": "code",
   "execution_count": 1,
   "metadata": {},
   "outputs": [
    {
     "data": {
      "text/plain": [
       "<Buffer 00 00 00 00 00 00 00 00 00 00>"
      ]
     },
     "execution_count": 1,
     "metadata": {},
     "output_type": "execute_result"
    },
    {
     "name": "stderr",
     "output_type": "stream",
     "text": [
      "(node:12748) [DEP0005] DeprecationWarning: Buffer() is deprecated due to security and usability issues. Please use the Buffer.alloc(), Buffer.allocUnsafe(), or Buffer.from() methods instead.\n",
      "(Use `node --trace-deprecation ...` to show where the warning was created)\n"
     ]
    }
   ],
   "source": [
    "var buf = new Buffer(10);\n",
    "buf;"
   ]
  },
  {
   "cell_type": "code",
   "execution_count": 2,
   "metadata": {},
   "outputs": [
    {
     "data": {
      "text/plain": [
       "<Buffer 00 00 00 00 00 00 00 00 00 00>"
      ]
     },
     "execution_count": 2,
     "metadata": {},
     "output_type": "execute_result"
    }
   ],
   "source": [
    "var buf1 = Buffer.alloc(10);\n",
    "buf1;"
   ]
  },
  {
   "cell_type": "code",
   "execution_count": 3,
   "metadata": {},
   "outputs": [
    {
     "data": {
      "text/plain": [
       "<Buffer 00 00 00 00 00 00 00 00 00 00>"
      ]
     },
     "execution_count": 3,
     "metadata": {},
     "output_type": "execute_result"
    }
   ],
   "source": [
    "var buf2 = Buffer.allocUnsafe(10);\n",
    "buf2;"
   ]
  },
  {
   "cell_type": "code",
   "execution_count": 4,
   "metadata": {},
   "outputs": [
    {
     "data": {
      "text/plain": [
       "<Buffer ff ff ff ff ff ff ff ff ff ff>"
      ]
     },
     "execution_count": 4,
     "metadata": {},
     "output_type": "execute_result"
    }
   ],
   "source": [
    "var buf3 = Buffer.alloc(10, 255);\n",
    "buf3;"
   ]
  },
  {
   "cell_type": "markdown",
   "metadata": {},
   "source": [
    "### 方法 2\n",
    "\n",
    "通过给定的数组创建 Buffer 实例："
   ]
  },
  {
   "cell_type": "code",
   "execution_count": 5,
   "metadata": {},
   "outputs": [
    {
     "data": {
      "text/plain": [
       "<Buffer 0a 14 1e 28 32>"
      ]
     },
     "execution_count": 5,
     "metadata": {},
     "output_type": "execute_result"
    }
   ],
   "source": [
    "var buf = new Buffer([10, 20, 30, 40, 50]);\n",
    "buf;"
   ]
  },
  {
   "cell_type": "code",
   "execution_count": 6,
   "metadata": {},
   "outputs": [
    {
     "data": {
      "text/plain": [
       "<Buffer 01 02 03>"
      ]
     },
     "execution_count": 6,
     "metadata": {},
     "output_type": "execute_result"
    }
   ],
   "source": [
    "var buf1 = Buffer.from([1, 2, 3]);\n",
    "buf1;"
   ]
  },
  {
   "cell_type": "code",
   "execution_count": 7,
   "metadata": {},
   "outputs": [
    {
     "data": {
      "text/plain": [
       "<Buffer 01 01 01 01>"
      ]
     },
     "execution_count": 7,
     "metadata": {},
     "output_type": "execute_result"
    }
   ],
   "source": [
    "// Creates a Buffer containing the bytes [1, 1, 1, 1] – the entries\n",
    "// are all truncated using `(value & 255)` to fit into the range 0–255.\n",
    "var buf2 = Buffer.from([257, 257.5, -255, '1']);\n",
    "buf2;"
   ]
  },
  {
   "cell_type": "code",
   "execution_count": 8,
   "metadata": {},
   "outputs": [
    {
     "data": {
      "text/plain": [
       "<Buffer 74 c3 a9 73 74>"
      ]
     },
     "execution_count": 8,
     "metadata": {},
     "output_type": "execute_result"
    }
   ],
   "source": [
    "// Creates a Buffer containing the UTF-8-encoded bytes for the string 'tést':\n",
    "// [0x74, /0xc3, 0xa9/, 0x73, 0x74] (in hexadecimal notation)\n",
    "// [116, 195, 169, 115, 116] (in decimal notation)\n",
    "var buf3 = Buffer.from('tést');\n",
    "buf3;"
   ]
  },
  {
   "cell_type": "code",
   "execution_count": 9,
   "metadata": {},
   "outputs": [
    {
     "data": {
      "text/plain": [
       "<Buffer 74 e9 73 74>"
      ]
     },
     "execution_count": 9,
     "metadata": {},
     "output_type": "execute_result"
    }
   ],
   "source": [
    "// Creates a Buffer containing the Latin-1 bytes [0x74, 0xe9, 0x73, 0x74].\n",
    "var buf4 = Buffer.from('tést', 'latin1');\n",
    "buf4;"
   ]
  },
  {
   "cell_type": "markdown",
   "metadata": {},
   "source": [
    "### 方法 3\n",
    "\n",
    "通过一个字符串来创建 Buffer 实例："
   ]
  },
  {
   "cell_type": "code",
   "execution_count": 10,
   "metadata": {},
   "outputs": [
    {
     "data": {
      "text/plain": [
       "<Buffer 77 77 77 2e 77 33 63 73 63 68 6f 6f 6c 2e 63 6e>"
      ]
     },
     "execution_count": 10,
     "metadata": {},
     "output_type": "execute_result"
    }
   ],
   "source": [
    "var buf = new Buffer(\"www.w3cschool.cn\", \"utf-8\");\n",
    "buf;"
   ]
  },
  {
   "cell_type": "markdown",
   "metadata": {},
   "source": [
    "## 写入缓冲区\n",
    "### 语法\n",
    "写入 Node 缓冲区的语法如下所示：\n",
    "\n",
    "`buf.write(string[, offset[, length]][, encoding])`\n",
    "### 参数\n",
    "\n",
    "参数描述如下：\n",
    "- string - 写入缓冲区的字符串。\n",
    "\n",
    "- offset - 缓冲区开始写入的索引值，默认为 0 。\n",
    "\n",
    "- length - 写入的字节数，默认为 buffer.length\n",
    "\n",
    "- encoding - 使用的编码。默认为 'utf8' 。\n",
    "\n",
    "### 返回值\n",
    "\n",
    "返回实际写入的大小。如果 buffer 空间不足， 则只会写入部分字符串。\\\n",
    "### 实例"
   ]
  },
  {
   "cell_type": "code",
   "execution_count": 11,
   "metadata": {},
   "outputs": [
    {
     "name": "stdout",
     "output_type": "stream",
     "text": [
      "写入字节数 : 16\n"
     ]
    }
   ],
   "source": [
    "buf = new Buffer(256);\n",
    "len = buf.write(\"www.w3cschool.cn\");\n",
    "\n",
    "console.log(\"写入字节数 : \"+  len);"
   ]
  },
  {
   "cell_type": "markdown",
   "metadata": {},
   "source": [
    "## 从缓冲区读取数据\n",
    "### 语法\n",
    "\n",
    "读取 Node 缓冲区数据的语法如下所示：\n",
    "\n",
    "`buf.toString([encoding[,start[,end]]])`\n",
    "\n",
    "### 参数\n",
    "\n",
    "参数描述如下：\n",
    "\n",
    "- encoding - 使用的编码。默认为 'utf8' 。\n",
    "\n",
    "- start - 指定开始读取的索引位置，默认为 0。\n",
    "\n",
    "- end - 结束位置，默认为缓冲区的末尾。\n",
    "\n",
    "### 返回值\n",
    "\n",
    "解码缓冲区数据并使用指定的编码返回字符串。\n",
    "### 实例"
   ]
  },
  {
   "cell_type": "code",
   "execution_count": 12,
   "metadata": {},
   "outputs": [
    {
     "name": "stdout",
     "output_type": "stream",
     "text": [
      "abcdefghijklmnopqrstuvwxyz\n",
      "abcde\n",
      "abcde\n",
      "abcde\n"
     ]
    }
   ],
   "source": [
    "buf = new Buffer(26);\n",
    "for (var i = 0 ; i < 26 ; i++) {\n",
    "  buf[i] = i + 97;\n",
    "}\n",
    "\n",
    "console.log( buf.toString('ascii'));       // 输出: abcdefghijklmnopqrstuvwxyz\n",
    "console.log( buf.toString('ascii',0,5));   // 输出: abcde\n",
    "console.log( buf.toString('utf8',0,5));    // 输出: abcde\n",
    "console.log( buf.toString(undefined,0,5)); // 使用 'utf8' 编码, 并输出: abcde"
   ]
  },
  {
   "cell_type": "markdown",
   "metadata": {},
   "source": [
    "## 将 Buffer 转换为 JSON 对象\n",
    "### 语法\n",
    "\n",
    "将 Node Buffer 转换为 JSON 对象的函数语法格式如下：\n",
    "\n",
    "`buf.toJSON()`\n",
    "\n",
    "### 返回值\n",
    "\n",
    "返回 JSON 对象。\n",
    "### 实例"
   ]
  },
  {
   "cell_type": "code",
   "execution_count": 13,
   "metadata": {},
   "outputs": [
    {
     "name": "stdout",
     "output_type": "stream",
     "text": [
      "{\n",
      "  type: 'Buffer',\n",
      "  data: [\n",
      "    119, 119, 119, 46, 119,\n",
      "     51,  99, 115, 99, 104,\n",
      "    111, 111, 108, 46,  99,\n",
      "    110\n",
      "  ]\n",
      "}\n"
     ]
    }
   ],
   "source": [
    "var buf = new Buffer('www.w3cschool.cn');\n",
    "var json = buf.toJSON(buf);\n",
    "\n",
    "console.log(json);"
   ]
  },
  {
   "cell_type": "markdown",
   "metadata": {},
   "source": [
    "## 缓冲区合并\n",
    "### 语法\n",
    "\n",
    "Node 缓冲区合并的语法如下所示：\n",
    "\n",
    "`Buffer.concat(list[, totalLength])`\n",
    "\n",
    "### 参数\n",
    "\n",
    "参数描述如下：\n",
    "- list - 用于合并的 Buffer 对象数组列表。\n",
    "- totalLength - 指定合并后Buffer对象的总长度。\n",
    "\n",
    "### 返回值\n",
    "\n",
    "返回一个多个成员合并的新 Buffer 对象。\n",
    "### 实例"
   ]
  },
  {
   "cell_type": "code",
   "execution_count": 14,
   "metadata": {},
   "outputs": [
    {
     "name": "stdout",
     "output_type": "stream",
     "text": [
      "buffer3 内容: W3Cschool教程 www.w3cschool.cn\n"
     ]
    }
   ],
   "source": [
    "var buffer1 = new Buffer('W3Cschool教程 ');\n",
    "var buffer2 = new Buffer('www.w3cschool.cn');\n",
    "var buffer3 = Buffer.concat([buffer1,buffer2]);\n",
    "console.log(\"buffer3 内容: \" + buffer3.toString());"
   ]
  },
  {
   "cell_type": "markdown",
   "metadata": {},
   "source": [
    "## 缓冲区比较\n",
    "### 语法\n",
    "\n",
    "Node Buffer 比较的函数语法如下所示, 该方法在 Node.js v0.12.2 版本引入：\\\n",
    "`buf.compare(otherBuffer);`\n",
    "\n",
    "### 参数\n",
    "\n",
    "参数描述如下：\n",
    "\n",
    " - otherBuffer - 与 buf 对象比较的另外一个 Buffer 对象。\n",
    "\n",
    "### 返回值\n",
    "\n",
    "返回一个数字，表示 buf 在 otherBuffer 之前，之后或相同。\n",
    "### 实例"
   ]
  },
  {
   "cell_type": "code",
   "execution_count": 15,
   "metadata": {},
   "outputs": [
    {
     "name": "stdout",
     "output_type": "stream",
     "text": [
      "ABCAD 在 ABCD之前\n"
     ]
    }
   ],
   "source": [
    "var buffer1 = new Buffer('ABCAD');\n",
    "var buffer2 = new Buffer('ABCD');\n",
    "var result = buffer1.compare(buffer2);\n",
    "\n",
    "if(result < 0) {\n",
    "   console.log(buffer1 + \" 在 \" + buffer2 + \"之前\");\n",
    "}else if(result == 0){\n",
    "   console.log(buffer1 + \" 与 \" + buffer2 + \"相同\");\n",
    "}else {\n",
    "   console.log(buffer1 + \" 在 \" + buffer2 + \"之后\");\n",
    "}"
   ]
  },
  {
   "cell_type": "markdown",
   "metadata": {},
   "source": [
    "## 缓冲区拷贝\n",
    "### 语法\n",
    "\n",
    "Node 缓冲区拷贝语法如下所示：\n",
    "\n",
    "`buf.copy(target[, targetStart[, sourceStart[, sourceEnd]]])`\n",
    "\n",
    "### 参数\n",
    "\n",
    "参数描述如下：\n",
    "- targetBuffer - 要拷贝的 Buffer 对象。\n",
    "- targetStart - 数字, 可选, 默认: 0\n",
    "- sourceStart - 数字, 可选, 默认: 0\n",
    "- sourceEnd - 数字, 可选, 默认: buffer.length\n",
    "\n",
    "### 返回值\n",
    "\n",
    "没有返回值。\n",
    "### 实例"
   ]
  },
  {
   "cell_type": "code",
   "execution_count": 16,
   "metadata": {},
   "outputs": [
    {
     "name": "stdout",
     "output_type": "stream",
     "text": [
      "15\n",
      "buffer2 content: 落花人独煉, 微雨燕双飞\n"
     ]
    }
   ],
   "source": [
    "var buffer1 = new Buffer('落花人独立');\n",
    "console.log(buffer1.length);//15 一个中文字符3个byte, 一个英文字符一个byte\n",
    "// 拷贝一个缓冲区\n",
    "var buffer2 = Buffer.from('床前明月光, 微雨燕双飞');\n",
    "buffer1.copy(buffer2, 0, 0, 13);\n",
    "console.log(\"buffer2 content: \" + buffer2.toString());"
   ]
  },
  {
   "cell_type": "markdown",
   "metadata": {},
   "source": [
    "## 缓冲区裁剪\n",
    "### 语法\n",
    "Node 缓冲区裁剪语法如下所示：\n",
    "\n",
    "`buf.slice([start[, end]])`\n",
    "\n",
    "### 参数\n",
    "\n",
    "参数描述如下：\n",
    "\n",
    "-start - 数字, 可选, 默认: 0\n",
    "\n",
    "-end - 数字, 可选, 默认: buffer.length\n",
    "\n",
    "### 返回值\n",
    "\n",
    "返回一个新的缓冲区，它和旧缓冲区指向同一块内存，但是从索引 start 到 end 的位置剪切。\n",
    "### 实例"
   ]
  },
  {
   "cell_type": "code",
   "execution_count": 17,
   "metadata": {},
   "outputs": [
    {
     "name": "stdout",
     "output_type": "stream",
     "text": [
      "buffer2 content: 这是一首简单的\n"
     ]
    }
   ],
   "source": [
    "var buffer1 = new Buffer('这是一首简单的小情歌');\n",
    "// 剪切缓冲区\n",
    "var buffer2 = buffer1.slice(0,21); // 一个中文字符3个byte, 一个英文字符一个byte\n",
    "console.log(\"buffer2 content: \" + buffer2.toString());"
   ]
  },
  {
   "cell_type": "markdown",
   "metadata": {},
   "source": [
    "## 缓冲区长度\n",
    "### 语法\n",
    "\n",
    "Node 缓冲区长度计算语法如下所示：\n",
    "\n",
    "`buf.length;`\n",
    "\n",
    "### 返回值\n",
    "\n",
    "返回 Buffer 对象所占据的内存长度。\n",
    "### 实例"
   ]
  },
  {
   "cell_type": "code",
   "execution_count": 18,
   "metadata": {},
   "outputs": [
    {
     "name": "stdout",
     "output_type": "stream",
     "text": [
      "英文 - buffer1 length: 10\n",
      "中文 - buffer2 length: 27\n"
     ]
    }
   ],
   "source": [
    "var buffer1 = new Buffer('helloworld');\n",
    "var buffer2 = new Buffer('寒鸦万点流水绕孤村');\n",
    "//  缓冲区长度\n",
    "console.log(\"英文 - buffer1 length: \" + buffer1.length);\n",
    "//  缓冲区长度\n",
    "console.log(\"中文 - buffer2 length: \" + buffer2.length);"
   ]
  }
 ],
 "metadata": {
  "kernelspec": {
   "display_name": "Javascript (Node.js)",
   "language": "javascript",
   "name": "javascript"
  },
  "language_info": {
   "file_extension": ".js",
   "mimetype": "application/javascript",
   "name": "javascript",
   "version": "14.7.0"
  }
 },
 "nbformat": 4,
 "nbformat_minor": 4
}
